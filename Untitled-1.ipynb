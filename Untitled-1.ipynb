{
 "cells": [
  {
   "cell_type": "code",
   "execution_count": null,
   "metadata": {},
   "outputs": [],
   "source": [
    "using System;\n",
    "\n",
    "class Program\n",
    "{\n",
    "    static void Main()\n",
    "    {\n",
    "        // Crear una instancia de la clase Ejemplo\n",
    "        Ejemplo miEjemplo = new Ejemplo();\n",
    "\n",
    "        // Llamar al método Saludar de la instancia\n",
    "        miEjemplo.Saludar();\n",
    "\n",
    "        // Pausar la consola para ver la salida\n",
    "        Console.ReadLine();\n",
    "    }\n",
    "}\n",
    "\n",
    "// Definir una clase llamada Ejemplo\n",
    "class Ejemplo\n",
    "{\n",
    "    // Método de la clase que imprime un saludo\n",
    "    public void Saludar()\n",
    "    {\n",
    "        Console.WriteLine(\"¡Hola, este es un ejemplo en C#!\");\n",
    "    }\n",
    "}\n"
   ]
  }
 ],
 "metadata": {
  "language_info": {
   "name": "python"
  }
 },
 "nbformat": 4,
 "nbformat_minor": 2
}
